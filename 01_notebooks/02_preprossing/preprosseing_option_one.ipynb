{
 "cells": [
  {
   "cell_type": "markdown",
   "id": "a4ee4d96",
   "metadata": {},
   "source": [
    "- load data\n",
    "- feature vectors: extract from pictures with pre trained with Neural Network MobileNetV2 or ResNet50\n",
    "=> here it will be flattend by the cnn\n",
    "- "
   ]
  },
  {
   "cell_type": "markdown",
   "id": "2b69b638",
   "metadata": {},
   "source": [
    "### 0. Import packages and load the data"
   ]
  },
  {
   "cell_type": "code",
   "execution_count": 1,
   "id": "7c8fb851",
   "metadata": {},
   "outputs": [],
   "source": [
    "import pandas as pd\n",
    "import os\n",
    "import numpy as np\n",
    "from tensorflow.keras.preprocessing import image\n",
    "from tensorflow.keras.applications import MobileNetV2\n",
    "from tensorflow.keras.applications.mobilenet_v2 import preprocess_input\n",
    "from tqdm import tqdm\n",
    "\n",
    "\n",
    "df = pd.read_excel(\"/Users/felix/Documents/Data Science/05_The_project_plant_recognition/Data-Scientist-Project-Plant-Recognition-/02_analysis/01_computed_data_sets_plant_dataset_detailed.xlsx\")"
   ]
  },
  {
   "cell_type": "code",
   "execution_count": 2,
   "id": "780cf231",
   "metadata": {},
   "outputs": [
    {
     "name": "stderr",
     "output_type": "stream",
     "text": [
      "/var/folders/k_/x6px3sls6sl0yvv6s6pgyqh80000gn/T/ipykernel_53867/1067779979.py:8: UserWarning: `input_shape` is undefined or non-square, or `rows` is not in [96, 128, 160, 192, 224]. Weights for input shape (224, 224) will be loaded as the default.\n",
      "  model = MobileNetV2(weights=\"imagenet\", include_top=False, pooling=\"avg\")\n",
      "Processing classes: 100%|██████████| 3/3 [00:00<00:00, 2851.97it/s]\n"
     ]
    },
    {
     "ename": "IndexError",
     "evalue": "tuple index out of range",
     "output_type": "error",
     "traceback": [
      "\u001b[31m---------------------------------------------------------------------------\u001b[39m",
      "\u001b[31mIndexError\u001b[39m                                Traceback (most recent call last)",
      "\u001b[36mCell\u001b[39m\u001b[36m \u001b[39m\u001b[32mIn[2]\u001b[39m\u001b[32m, line 50\u001b[39m\n\u001b[32m     47\u001b[39m np.save(FEATURES_OUTPUT, features)\n\u001b[32m     48\u001b[39m np.save(LABELS_OUTPUT, labels)\n\u001b[32m---> \u001b[39m\u001b[32m50\u001b[39m \u001b[38;5;28mprint\u001b[39m(\u001b[33mf\u001b[39m\u001b[33m\"\u001b[39m\u001b[38;5;130;01m\\n\u001b[39;00m\u001b[33m✅ Done. Extracted \u001b[39m\u001b[38;5;132;01m{\u001b[39;00mfeatures.shape[\u001b[32m0\u001b[39m]\u001b[38;5;132;01m}\u001b[39;00m\u001b[33m feature vectors of dimension \u001b[39m\u001b[38;5;132;01m{\u001b[39;00m\u001b[43mfeatures\u001b[49m\u001b[43m.\u001b[49m\u001b[43mshape\u001b[49m\u001b[43m[\u001b[49m\u001b[32;43m1\u001b[39;49m\u001b[43m]\u001b[49m\u001b[38;5;132;01m}\u001b[39;00m\u001b[33m\"\u001b[39m)\n",
      "\u001b[31mIndexError\u001b[39m: tuple index out of range"
     ]
    }
   ],
   "source": [
    "\n",
    "# === CONFIG ===\n",
    "IMAGE_SIZE = (224, 224)\n",
    "DATASET_PATH = \"/Users/felix/Documents/Data Science/05_The_project_plant_recognition/Data-Scientist-Project-Plant-Recognition-/01_data/2.1.1 New Plant Diseases\"\n",
    "FEATURES_OUTPUT = \"features.npy\"\n",
    "LABELS_OUTPUT = \"labels.npy\"\n",
    "\n",
    "# === LOAD CNN (pre-trained, feature extractor only) ===\n",
    "model = MobileNetV2(weights=\"imagenet\", include_top=False, pooling=\"avg\")\n",
    "\n",
    "# === HELPER: Preprocess image ===\n",
    "def preprocess_image(img_path):\n",
    "    try:\n",
    "        img = image.load_img(img_path, target_size=IMAGE_SIZE)\n",
    "        img_array = image.img_to_array(img)\n",
    "        img_array = np.expand_dims(img_array, axis=0)\n",
    "        return preprocess_input(img_array)\n",
    "    except Exception as e:\n",
    "        print(f\"Error processing {img_path}: {e}\")\n",
    "        return None\n",
    "\n",
    "# === FEATURE EXTRACTION ===\n",
    "features = []\n",
    "labels = []\n",
    "\n",
    "for label in tqdm(sorted(os.listdir(DATASET_PATH)), desc=\"Processing classes\"):\n",
    "    class_dir = os.path.join(DATASET_PATH, label)\n",
    "    if not os.path.isdir(class_dir):\n",
    "        continue\n",
    "\n",
    "    for fname in os.listdir(class_dir):\n",
    "        fpath = os.path.join(class_dir, fname)\n",
    "        if not fname.lower().endswith((\".jpg\", \".jpeg\", \".png\")):\n",
    "            continue\n",
    "\n",
    "        pre_img = preprocess_image(fpath)\n",
    "        if pre_img is None:\n",
    "            continue\n",
    "\n",
    "        feature = model.predict(pre_img, verbose=0).flatten()\n",
    "        features.append(feature)\n",
    "        labels.append(label)\n",
    "\n",
    "# === SAVE TO DISK ===\n",
    "features = np.array(features)\n",
    "labels = np.array(labels)\n",
    "\n",
    "np.save(FEATURES_OUTPUT, features)\n",
    "np.save(LABELS_OUTPUT, labels)\n",
    "\n",
    "print(f\"\\n✅ Done. Extracted {features.shape[0]} feature vectors of dimension {features.shape[1]}\")\n"
   ]
  },
  {
   "cell_type": "markdown",
   "id": "5b885676",
   "metadata": {},
   "source": []
  },
  {
   "cell_type": "markdown",
   "id": "bac7e894",
   "metadata": {},
   "source": []
  }
 ],
 "metadata": {
  "kernelspec": {
   "display_name": ".venv",
   "language": "python",
   "name": "python3"
  },
  "language_info": {
   "codemirror_mode": {
    "name": "ipython",
    "version": 3
   },
   "file_extension": ".py",
   "mimetype": "text/x-python",
   "name": "python",
   "nbconvert_exporter": "python",
   "pygments_lexer": "ipython3",
   "version": "3.11.9"
  }
 },
 "nbformat": 4,
 "nbformat_minor": 5
}
