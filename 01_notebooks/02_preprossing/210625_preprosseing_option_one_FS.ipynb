{
 "cells": [
  {
   "cell_type": "markdown",
   "id": "a4ee4d96",
   "metadata": {},
   "source": [
    "- load data\n",
    "- feature vectors: extract from pictures with pre trained with Neural Network MobileNetV2 or ResNet50\n",
    "=> here it will be flattend by the cnn\n",
    "- "
   ]
  },
  {
   "cell_type": "markdown",
   "id": "2b69b638",
   "metadata": {},
   "source": [
    "### 0. Import packages and load the data"
   ]
  },
  {
   "cell_type": "code",
   "execution_count": null,
   "id": "7c8fb851",
   "metadata": {},
   "outputs": [],
   "source": [
    "import pandas as pd\n",
    "import os\n",
    "import numpy as np\n",
    "from tensorflow.keras.preprocessing import image\n",
    "from tensorflow.keras.applications import MobileNetV2\n",
    "from tensorflow.keras.applications.mobilenet_v2 import preprocess_input\n",
    "from tqdm import tqdm"
   ]
  },
  {
   "cell_type": "markdown",
   "id": "5b885676",
   "metadata": {},
   "source": []
  },
  {
   "cell_type": "markdown",
   "id": "bac7e894",
   "metadata": {},
   "source": []
  }
 ],
 "metadata": {
  "kernelspec": {
   "display_name": ".venv",
   "language": "python",
   "name": "python3"
  },
  "language_info": {
   "codemirror_mode": {
    "name": "ipython",
    "version": 3
   },
   "file_extension": ".py",
   "mimetype": "text/x-python",
   "name": "python",
   "nbconvert_exporter": "python",
   "pygments_lexer": "ipython3",
   "version": "3.11.9"
  }
 },
 "nbformat": 4,
 "nbformat_minor": 5
}
